{
  "nbformat": 4,
  "nbformat_minor": 0,
  "metadata": {
    "colab": {
      "provenance": [],
      "include_colab_link": true
    },
    "kernelspec": {
      "name": "python3",
      "display_name": "Python 3"
    },
    "language_info": {
      "name": "python"
    }
  },
  "cells": [
    {
      "cell_type": "markdown",
      "metadata": {
        "id": "view-in-github",
        "colab_type": "text"
      },
      "source": [
        "<a href=\"https://colab.research.google.com/github/3SVan/Entregas-poo/blob/main/pruebaa.ipynb\" target=\"_parent\"><img src=\"https://colab.research.google.com/assets/colab-badge.svg\" alt=\"Open In Colab\"/></a>"
      ]
    },
    {
      "cell_type": "code",
      "execution_count": null,
      "metadata": {
        "colab": {
          "base_uri": "https://localhost:8080/"
        },
        "id": "JXsz8F1ogAkV",
        "outputId": "7a420d57-c518-478a-b0cf-3dd74f3d1f63"
      },
      "outputs": [
        {
          "output_type": "stream",
          "name": "stdout",
          "text": [
            "no se python jelppppp 80.9399 Quiero desayunarrrrrr\n",
            "<class 'float'>\n"
          ]
        }
      ],
      "source": [
        "#x=\"diegoooooooo\"\n",
        "#x=9\n",
        "x=80.9399\n",
        "\n",
        "\n",
        "print(\"no se python jelppppp\",x,\"Quiero desayunarrrrrr\")\n",
        "print(type(x))"
      ]
    },
    {
      "cell_type": "code",
      "source": [
        "q=input(\" Escribe tu nombre \")\n",
        "print (\"Tu eres\",q)"
      ],
      "metadata": {
        "colab": {
          "base_uri": "https://localhost:8080/"
        },
        "id": "img5fPwSjdF2",
        "outputId": "59d29ba4-70d5-4d70-de91-f360c814994a"
      },
      "execution_count": null,
      "outputs": [
        {
          "output_type": "stream",
          "name": "stdout",
          "text": [
            " Escribe tu nombre Diegoo\n",
            "Tu eres Diegoo\n"
          ]
        }
      ]
    },
    {
      "cell_type": "code",
      "source": [
        "q=input(\" Escribe tu calificacion de poo\")\n",
        "w=float(q)\n",
        "print (\"Tu calificacion es\",w)"
      ],
      "metadata": {
        "colab": {
          "base_uri": "https://localhost:8080/"
        },
        "id": "AbWAQehZkPy-",
        "outputId": "d5f375a1-405e-4073-f2b7-73aa26f1e34d"
      },
      "execution_count": null,
      "outputs": [
        {
          "output_type": "stream",
          "name": "stdout",
          "text": [
            " Escribe tu calificacion de poo90\n",
            "Tu calificacion es 90.0\n"
          ]
        }
      ]
    },
    {
      "cell_type": "code",
      "source": [
        "q=float( input(\"Escribe tu calificacion de poo \"))\n",
        "print(\"Tu califiacacion es\",q)"
      ],
      "metadata": {
        "colab": {
          "base_uri": "https://localhost:8080/"
        },
        "id": "LQetdmKTkj59",
        "outputId": "dbe5041d-91cc-47eb-f13b-161c2b555765"
      },
      "execution_count": null,
      "outputs": [
        {
          "output_type": "stream",
          "name": "stdout",
          "text": [
            "Escribe tu calificacion de poo 90\n",
            "Tu califiacacion es 90.0\n"
          ]
        }
      ]
    },
    {
      "cell_type": "code",
      "source": [
        "#operadores matematicos\n",
        "# +- * / // % abs()\n",
        "x= 10\n",
        "y=20\n",
        "suma=x+y\n",
        "print(\"El resultado es\",suma)"
      ],
      "metadata": {
        "colab": {
          "base_uri": "https://localhost:8080/"
        },
        "id": "OiPutCO7k0UW",
        "outputId": "1406414b-8506-447e-f633-ada55bf44c93"
      },
      "execution_count": null,
      "outputs": [
        {
          "output_type": "stream",
          "name": "stdout",
          "text": [
            "El resultado es 30\n"
          ]
        }
      ]
    },
    {
      "cell_type": "code",
      "source": [
        "x=8.76\n",
        "print(x+1)\n",
        "print(x-2)\n",
        "print(x*3)\n",
        "print(x**2)\n"
      ],
      "metadata": {
        "colab": {
          "base_uri": "https://localhost:8080/"
        },
        "id": "g_6o3JiUlase",
        "outputId": "43c9756d-6f79-4053-bdcc-632edede2640"
      },
      "execution_count": null,
      "outputs": [
        {
          "output_type": "stream",
          "name": "stdout",
          "text": [
            "9.76\n",
            "6.76\n",
            "26.28\n",
            "76.7376\n"
          ]
        }
      ]
    },
    {
      "cell_type": "code",
      "source": [
        "import math as mt\n",
        "\n",
        "q=mt.sqrt(2)\n",
        "\n",
        "print(q)"
      ],
      "metadata": {
        "colab": {
          "base_uri": "https://localhost:8080/"
        },
        "id": "qiSdBcx_md0E",
        "outputId": "c2c639d9-3eb4-42c8-87c5-0dbcf2754d1a"
      },
      "execution_count": null,
      "outputs": [
        {
          "output_type": "stream",
          "name": "stdout",
          "text": [
            "1.4142135623730951\n"
          ]
        }
      ]
    },
    {
      "cell_type": "code",
      "source": [
        "from math import sqrt\n",
        "\n",
        "q=sqrt(2)\n",
        "print(q)"
      ],
      "metadata": {
        "colab": {
          "base_uri": "https://localhost:8080/"
        },
        "id": "_b-jo5J0ngIt",
        "outputId": "9d092037-4be3-42aa-e017-404c32b377d0"
      },
      "execution_count": null,
      "outputs": [
        {
          "output_type": "stream",
          "name": "stdout",
          "text": [
            "1.4142135623730951\n"
          ]
        }
      ]
    },
    {
      "cell_type": "code",
      "source": [
        "#if else elif math\n",
        "q= -0.1\n",
        "w= 1\n",
        "if q >0 and q !=0 : #and or not() logic operators\n",
        "  print(\"q es mayor o igual que 1\")\n",
        "elif w ==1:\n",
        "  print(\"si funciona\")\n",
        "else:\n",
        "  print(\"tu numero es negativo\")\n"
      ],
      "metadata": {
        "colab": {
          "base_uri": "https://localhost:8080/"
        },
        "id": "EA4gnncQn0VE",
        "outputId": "8bda5451-898d-4037-b401-91b1465d1d1a"
      },
      "execution_count": null,
      "outputs": [
        {
          "output_type": "stream",
          "name": "stdout",
          "text": [
            "si funciona\n"
          ]
        }
      ]
    },
    {
      "cell_type": "code",
      "source": [
        "error = input(\"introduzca un codigo de error: \")\n",
        "match error:\n",
        "  case \"200\":\n",
        "    print(\"todo ok.\")\n",
        "  case \"301\":\n",
        "    print(\"movimiento permanente de la pagina\")\n",
        "  case _:\n",
        "    print(\"Error no disponible.\")"
      ],
      "metadata": {
        "colab": {
          "base_uri": "https://localhost:8080/"
        },
        "id": "yEg-R9xEqcws",
        "outputId": "e74fa931-0647-4fb2-e02c-039804ecb015"
      },
      "execution_count": null,
      "outputs": [
        {
          "output_type": "stream",
          "name": "stdout",
          "text": [
            "introduzca un codigo de error: 201\n",
            "Error no disponible.\n"
          ]
        }
      ]
    },
    {
      "cell_type": "code",
      "source": [
        "#while\n",
        "q=1\n",
        "ac=1 #contador, acumulador y bandera\n",
        "while ac<5:\n",
        "  print(\"hola\",ac)\n",
        "  ac+=1 #c++"
      ],
      "metadata": {
        "colab": {
          "base_uri": "https://localhost:8080/"
        },
        "id": "81whAlklr7oL",
        "outputId": "22f4f7e7-35d8-47a8-bc2f-30fe56ed455d"
      },
      "execution_count": null,
      "outputs": [
        {
          "output_type": "stream",
          "name": "stdout",
          "text": [
            "hola 1\n",
            "hola 2\n",
            "hola 3\n",
            "hola 4\n"
          ]
        }
      ]
    },
    {
      "cell_type": "code",
      "source": [
        "for x in range(10):\n",
        "  print(\"prestame una feria\")"
      ],
      "metadata": {
        "colab": {
          "base_uri": "https://localhost:8080/"
        },
        "id": "nykJIAbktIQj",
        "outputId": "062f34b3-cfdb-4635-a327-76ae484a7b95"
      },
      "execution_count": null,
      "outputs": [
        {
          "output_type": "stream",
          "name": "stdout",
          "text": [
            "prestame una feria\n",
            "prestame una feria\n",
            "prestame una feria\n",
            "prestame una feria\n",
            "prestame una feria\n",
            "prestame una feria\n",
            "prestame una feria\n",
            "prestame una feria\n",
            "prestame una feria\n",
            "prestame una feria\n"
          ]
        }
      ]
    },
    {
      "cell_type": "code",
      "source": [
        "# listas\n",
        "li=[] # lista vacia\n",
        "\n",
        "for _ in range(5):\n",
        "  q=input(\"Escribe algo\")\n",
        "  li.append(q)\n",
        "\n",
        "print(li)\n",
        "\n"
      ],
      "metadata": {
        "colab": {
          "base_uri": "https://localhost:8080/",
          "height": 373
        },
        "id": "BSvKlcu1uU1c",
        "outputId": "01ffc175-47ee-41d9-dfdf-8e1accd17a61"
      },
      "execution_count": null,
      "outputs": [
        {
          "output_type": "error",
          "ename": "KeyboardInterrupt",
          "evalue": "Interrupted by user",
          "traceback": [
            "\u001b[0;31m---------------------------------------------------------------------------\u001b[0m",
            "\u001b[0;31mKeyboardInterrupt\u001b[0m                         Traceback (most recent call last)",
            "\u001b[0;32m<ipython-input-44-1f5d507bfc09>\u001b[0m in \u001b[0;36m<cell line: 4>\u001b[0;34m()\u001b[0m\n\u001b[1;32m      3\u001b[0m \u001b[0;34m\u001b[0m\u001b[0m\n\u001b[1;32m      4\u001b[0m \u001b[0;32mfor\u001b[0m \u001b[0m_\u001b[0m \u001b[0;32min\u001b[0m \u001b[0mrange\u001b[0m\u001b[0;34m(\u001b[0m\u001b[0;36m5\u001b[0m\u001b[0;34m)\u001b[0m\u001b[0;34m:\u001b[0m\u001b[0;34m\u001b[0m\u001b[0;34m\u001b[0m\u001b[0m\n\u001b[0;32m----> 5\u001b[0;31m   \u001b[0mq\u001b[0m\u001b[0;34m=\u001b[0m\u001b[0minput\u001b[0m\u001b[0;34m(\u001b[0m\u001b[0;34m\"Escribe algo\"\u001b[0m\u001b[0;34m)\u001b[0m\u001b[0;34m\u001b[0m\u001b[0;34m\u001b[0m\u001b[0m\n\u001b[0m\u001b[1;32m      6\u001b[0m   \u001b[0mli\u001b[0m\u001b[0;34m.\u001b[0m\u001b[0mappend\u001b[0m\u001b[0;34m(\u001b[0m\u001b[0mq\u001b[0m\u001b[0;34m)\u001b[0m\u001b[0;34m\u001b[0m\u001b[0;34m\u001b[0m\u001b[0m\n\u001b[1;32m      7\u001b[0m \u001b[0;34m\u001b[0m\u001b[0m\n",
            "\u001b[0;32m/usr/local/lib/python3.10/dist-packages/ipykernel/kernelbase.py\u001b[0m in \u001b[0;36mraw_input\u001b[0;34m(self, prompt)\u001b[0m\n\u001b[1;32m    849\u001b[0m                 \u001b[0;34m\"raw_input was called, but this frontend does not support input requests.\"\u001b[0m\u001b[0;34m\u001b[0m\u001b[0;34m\u001b[0m\u001b[0m\n\u001b[1;32m    850\u001b[0m             )\n\u001b[0;32m--> 851\u001b[0;31m         return self._input_request(str(prompt),\n\u001b[0m\u001b[1;32m    852\u001b[0m             \u001b[0mself\u001b[0m\u001b[0;34m.\u001b[0m\u001b[0m_parent_ident\u001b[0m\u001b[0;34m,\u001b[0m\u001b[0;34m\u001b[0m\u001b[0;34m\u001b[0m\u001b[0m\n\u001b[1;32m    853\u001b[0m             \u001b[0mself\u001b[0m\u001b[0;34m.\u001b[0m\u001b[0m_parent_header\u001b[0m\u001b[0;34m,\u001b[0m\u001b[0;34m\u001b[0m\u001b[0;34m\u001b[0m\u001b[0m\n",
            "\u001b[0;32m/usr/local/lib/python3.10/dist-packages/ipykernel/kernelbase.py\u001b[0m in \u001b[0;36m_input_request\u001b[0;34m(self, prompt, ident, parent, password)\u001b[0m\n\u001b[1;32m    893\u001b[0m             \u001b[0;32mexcept\u001b[0m \u001b[0mKeyboardInterrupt\u001b[0m\u001b[0;34m:\u001b[0m\u001b[0;34m\u001b[0m\u001b[0;34m\u001b[0m\u001b[0m\n\u001b[1;32m    894\u001b[0m                 \u001b[0;31m# re-raise KeyboardInterrupt, to truncate traceback\u001b[0m\u001b[0;34m\u001b[0m\u001b[0;34m\u001b[0m\u001b[0m\n\u001b[0;32m--> 895\u001b[0;31m                 \u001b[0;32mraise\u001b[0m \u001b[0mKeyboardInterrupt\u001b[0m\u001b[0;34m(\u001b[0m\u001b[0;34m\"Interrupted by user\"\u001b[0m\u001b[0;34m)\u001b[0m \u001b[0;32mfrom\u001b[0m \u001b[0;32mNone\u001b[0m\u001b[0;34m\u001b[0m\u001b[0;34m\u001b[0m\u001b[0m\n\u001b[0m\u001b[1;32m    896\u001b[0m             \u001b[0;32mexcept\u001b[0m \u001b[0mException\u001b[0m \u001b[0;32mas\u001b[0m \u001b[0me\u001b[0m\u001b[0;34m:\u001b[0m\u001b[0;34m\u001b[0m\u001b[0;34m\u001b[0m\u001b[0m\n\u001b[1;32m    897\u001b[0m                 \u001b[0mself\u001b[0m\u001b[0;34m.\u001b[0m\u001b[0mlog\u001b[0m\u001b[0;34m.\u001b[0m\u001b[0mwarning\u001b[0m\u001b[0;34m(\u001b[0m\u001b[0;34m\"Invalid Message:\"\u001b[0m\u001b[0;34m,\u001b[0m \u001b[0mexc_info\u001b[0m\u001b[0;34m=\u001b[0m\u001b[0;32mTrue\u001b[0m\u001b[0;34m)\u001b[0m\u001b[0;34m\u001b[0m\u001b[0;34m\u001b[0m\u001b[0m\n",
            "\u001b[0;31mKeyboardInterrupt\u001b[0m: Interrupted by user"
          ]
        }
      ]
    },
    {
      "cell_type": "code",
      "source": [
        "# listas\n",
        "li=[\"Diego santana\",0,3.1416,2.71,True,0] # lista vacia\n",
        "\n",
        "for valor in range(5):\n",
        "  print(valor)\n",
        "\n"
      ],
      "metadata": {
        "colab": {
          "base_uri": "https://localhost:8080/"
        },
        "id": "SPMHnB32yvnR",
        "outputId": "2919d99c-3060-47a1-e200-a81efd30b161"
      },
      "execution_count": null,
      "outputs": [
        {
          "output_type": "stream",
          "name": "stdout",
          "text": [
            "0\n",
            "1\n",
            "2\n",
            "3\n",
            "4\n"
          ]
        }
      ]
    },
    {
      "cell_type": "markdown",
      "source": [],
      "metadata": {
        "id": "tJabin1t0nCf"
      }
    },
    {
      "cell_type": "code",
      "source": [
        "# listas\n",
        "li=[\"Diego santana\",0,3.1416,2.71,True,0] # lista vacia\n",
        "ac=0\n",
        "for valor in li:\n",
        "  print(valor)\n",
        "  if valor==0:\n",
        "    ac+=1\n",
        "\n",
        "print(\"Son los ceros encontrados\",ac)\n"
      ],
      "metadata": {
        "colab": {
          "base_uri": "https://localhost:8080/"
        },
        "id": "GmYOLZvM0ghZ",
        "outputId": "10079961-4abc-48b2-baeb-3ef9eb2671b3"
      },
      "execution_count": null,
      "outputs": [
        {
          "output_type": "stream",
          "name": "stdout",
          "text": [
            "Diego santana\n",
            "0\n",
            "3.1416\n",
            "2.71\n",
            "True\n",
            "0\n",
            "Son los ceros encontrados 2\n"
          ]
        }
      ]
    },
    {
      "cell_type": "code",
      "source": [
        "# listas\n",
        "li=[\"Diego santana\",0,3.1416,2.71,True,0] # lista vacia\n",
        "for valor in li:\n",
        "  if valor==0:\n",
        "    print(\"Se encontro un cero y se rompera este ciclo FOR\")\n",
        "    break\n",
        "  else:\n",
        "    print(\"Valor de la lista\",valor)\n",
        "print(\"Son los ceros encontrados\",ac)"
      ],
      "metadata": {
        "colab": {
          "base_uri": "https://localhost:8080/"
        },
        "id": "erZ8d4Ds3X1o",
        "outputId": "8d84db5e-4d8f-44e7-cfac-5980742a096e"
      },
      "execution_count": null,
      "outputs": [
        {
          "output_type": "stream",
          "name": "stdout",
          "text": [
            "Valor de la lista Diego santana\n",
            "Se encontro un cero y se rompera este ciclo FOR\n",
            "Son los ceros encontrados 2\n"
          ]
        }
      ]
    },
    {
      "cell_type": "code",
      "source": [
        "li=[\"Diego santana\",0,3.1416,2.71,True,0] # lista\n",
        "print(li.index(0))"
      ],
      "metadata": {
        "colab": {
          "base_uri": "https://localhost:8080/"
        },
        "id": "52KAR_W45TBW",
        "outputId": "b793ddb5-4993-44e4-c904-aea1e326a63c"
      },
      "execution_count": null,
      "outputs": [
        {
          "output_type": "stream",
          "name": "stdout",
          "text": [
            "1\n"
          ]
        }
      ]
    },
    {
      "cell_type": "code",
      "source": [
        "li=[\"Diego santana\",0,3.1416,2.71,True,0] # lista\n",
        "(li.insert(1,\"@\"))\n",
        "print(li)"
      ],
      "metadata": {
        "colab": {
          "base_uri": "https://localhost:8080/"
        },
        "id": "6UT9ieZI5jnO",
        "outputId": "3ceaa777-6b01-4495-aeeb-534195614208"
      },
      "execution_count": null,
      "outputs": [
        {
          "output_type": "stream",
          "name": "stdout",
          "text": [
            "None\n",
            "['Diego santana', '@', 0, 3.1416, 2.71, True, 0]\n"
          ]
        }
      ]
    },
    {
      "cell_type": "code",
      "source": [
        "li=[\"Diego santana\",0,3.1416,2.71,True,0] # lista\n",
        "#q=li.pop()\n",
        "q=li.pop(1)\n",
        "print(li)\n",
        "print(q)"
      ],
      "metadata": {
        "colab": {
          "base_uri": "https://localhost:8080/"
        },
        "id": "NQb0sApW6EQe",
        "outputId": "6dda9299-ad8c-409b-aca8-88e3adc78789"
      },
      "execution_count": null,
      "outputs": [
        {
          "output_type": "stream",
          "name": "stdout",
          "text": [
            "['Diego santana', 3.1416, 2.71, True]\n",
            "0\n"
          ]
        }
      ]
    },
    {
      "cell_type": "code",
      "source": [
        "li=[0,3.1416,2.71,0] # lista\n",
        "li.sort()\n",
        "print(li)"
      ],
      "metadata": {
        "colab": {
          "base_uri": "https://localhost:8080/"
        },
        "id": "lDnFQtr56dt_",
        "outputId": "1dababd4-240a-4d7a-8731-d3b9e39b8174"
      },
      "execution_count": null,
      "outputs": [
        {
          "output_type": "stream",
          "name": "stdout",
          "text": [
            "[0, 0, 1, 2.71, 3.1416]\n"
          ]
        }
      ]
    },
    {
      "cell_type": "code",
      "source": [
        "def funcion():\n",
        "  for i in range(5):\n",
        "   print(\"Hola tilinesss....\")\n",
        "\n",
        "  #------------------------------------main\n",
        "\n",
        "a=funcion()\n",
        "print(a)"
      ],
      "metadata": {
        "colab": {
          "base_uri": "https://localhost:8080/"
        },
        "id": "CP8T2UEn7P-m",
        "outputId": "66a3a4ff-6e41-4c90-ef09-d94b433f8253"
      },
      "execution_count": null,
      "outputs": [
        {
          "output_type": "stream",
          "name": "stdout",
          "text": [
            "Hola tilinesss....\n",
            "Hola tilinesss....\n",
            "Hola tilinesss....\n",
            "Hola tilinesss....\n",
            "Hola tilinesss....\n",
            "None\n"
          ]
        }
      ]
    },
    {
      "cell_type": "code",
      "source": [
        "def arroba(s):\n",
        "  for k in s:\n",
        "    if k ==\"@\":\n",
        "      return True\n",
        "      break\n",
        "  return False\n",
        "\n",
        "#main\n",
        "mail=\"diegoodsantana2@gmail.com\"\n",
        "print(\"El correo tiene arroba:\",arroba(mail))"
      ],
      "metadata": {
        "colab": {
          "base_uri": "https://localhost:8080/"
        },
        "id": "ejjRnkuX8Qmu",
        "outputId": "a001b849-a630-4346-8f94-df4e2ad5c251"
      },
      "execution_count": null,
      "outputs": [
        {
          "output_type": "stream",
          "name": "stdout",
          "text": [
            "El correo tiene arroba: True\n"
          ]
        }
      ]
    }
  ]
}